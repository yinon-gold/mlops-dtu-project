{
 "cells": [
  {
   "cell_type": "markdown",
   "id": "2223bcb6-3b29-4ad1-a71e-c5a36a16d733",
   "metadata": {},
   "source": [
    "# Data exploration"
   ]
  },
  {
   "cell_type": "markdown",
   "id": "a177230c-024b-40fa-8d48-ad091b5213e3",
   "metadata": {},
   "source": [
    "This notebook serves as a preliminary exploration into the dataset so that a good network architecture can be found."
   ]
  },
  {
   "cell_type": "code",
   "execution_count": 1,
   "id": "49654c86-6ff6-4490-aa41-4791624f161d",
   "metadata": {},
   "outputs": [],
   "source": [
    "import numpy as np\n",
    "import pandas as pd\n",
    "import glob"
   ]
  },
  {
   "cell_type": "code",
   "execution_count": 2,
   "id": "ebe0f28c-e805-4311-adb4-48ff025a358b",
   "metadata": {},
   "outputs": [],
   "source": [
    "##Read in the data\n",
    "book_rating = pd.DataFrame()\n",
    "for file in glob.glob(\"../data/raw/book*.csv\"):\n",
    "    df = pd.read_csv(file)\n",
    "    # discard empty\n",
    "    if book_rating.empty:\n",
    "        book_rating = df\n",
    "    else:\n",
    "        df = pd.concat([book_rating, df], ignore_index=True)\n",
    "\n",
    "\n",
    "        \n",
    "user_rating_temp = pd.DataFrame()\n",
    "for file in glob.glob(\"../data/raw/user_rating*.csv\"):\n",
    "    df = pd.read_csv(file)\n",
    "    if user_rating_temp.empty:\n",
    "        user_rating_temp = df\n",
    "    else:\n",
    "        df = pd.concat([user_rating_temp, df], ignore_index=True)"
   ]
  },
  {
   "cell_type": "code",
   "execution_count": 4,
   "id": "7a26051b-f14c-414c-9d0c-0a0d6bdb2a5a",
   "metadata": {},
   "outputs": [
    {
     "name": "stderr",
     "output_type": "stream",
     "text": [
      "C:\\Users\\Main1\\AppData\\Local\\Temp\\ipykernel_17564\\72870069.py:3: SettingWithCopyWarning: \n",
      "A value is trying to be set on a copy of a slice from a DataFrame\n",
      "\n",
      "See the caveats in the documentation: https://pandas.pydata.org/pandas-docs/stable/user_guide/indexing.html#returning-a-view-versus-a-copy\n",
      "  book_map.drop_duplicates(subset=['Name'],keep='first',inplace=True)\n",
      "C:\\Users\\Main1\\AppData\\Local\\Temp\\ipykernel_17564\\72870069.py:4: SettingWithCopyWarning: \n",
      "A value is trying to be set on a copy of a slice from a DataFrame.\n",
      "Try using .loc[row_indexer,col_indexer] = value instead\n",
      "\n",
      "See the caveats in the documentation: https://pandas.pydata.org/pandas-docs/stable/user_guide/indexing.html#returning-a-view-versus-a-copy\n",
      "  book_map['Book_Id']=book_map.index.values\n"
     ]
    },
    {
     "data": {
      "text/html": [
       "<div>\n",
       "<style scoped>\n",
       "    .dataframe tbody tr th:only-of-type {\n",
       "        vertical-align: middle;\n",
       "    }\n",
       "\n",
       "    .dataframe tbody tr th {\n",
       "        vertical-align: top;\n",
       "    }\n",
       "\n",
       "    .dataframe thead th {\n",
       "        text-align: right;\n",
       "    }\n",
       "</style>\n",
       "<table border=\"1\" class=\"dataframe\">\n",
       "  <thead>\n",
       "    <tr style=\"text-align: right;\">\n",
       "      <th></th>\n",
       "      <th>ID</th>\n",
       "      <th>Name</th>\n",
       "      <th>Rating</th>\n",
       "      <th>Book_Id</th>\n",
       "    </tr>\n",
       "  </thead>\n",
       "  <tbody>\n",
       "    <tr>\n",
       "      <th>0</th>\n",
       "      <td>1</td>\n",
       "      <td>Agile Web Development with Rails: A Pragmatic ...</td>\n",
       "      <td>it was amazing</td>\n",
       "      <td>0</td>\n",
       "    </tr>\n",
       "    <tr>\n",
       "      <th>1</th>\n",
       "      <td>1</td>\n",
       "      <td>The Restaurant at the End of the Universe (Hit...</td>\n",
       "      <td>it was amazing</td>\n",
       "      <td>1</td>\n",
       "    </tr>\n",
       "    <tr>\n",
       "      <th>2</th>\n",
       "      <td>1</td>\n",
       "      <td>Siddhartha</td>\n",
       "      <td>it was amazing</td>\n",
       "      <td>2</td>\n",
       "    </tr>\n",
       "    <tr>\n",
       "      <th>3</th>\n",
       "      <td>1</td>\n",
       "      <td>The Clock of the Long Now: Time and Responsibi...</td>\n",
       "      <td>really liked it</td>\n",
       "      <td>3</td>\n",
       "    </tr>\n",
       "    <tr>\n",
       "      <th>4</th>\n",
       "      <td>1</td>\n",
       "      <td>Ready Player One (Ready Player One, #1)</td>\n",
       "      <td>really liked it</td>\n",
       "      <td>4</td>\n",
       "    </tr>\n",
       "  </tbody>\n",
       "</table>\n",
       "</div>"
      ],
      "text/plain": [
       "   ID                                               Name           Rating  \\\n",
       "0   1  Agile Web Development with Rails: A Pragmatic ...   it was amazing   \n",
       "1   1  The Restaurant at the End of the Universe (Hit...   it was amazing   \n",
       "2   1                                         Siddhartha   it was amazing   \n",
       "3   1  The Clock of the Long Now: Time and Responsibi...  really liked it   \n",
       "4   1            Ready Player One (Ready Player One, #1)  really liked it   \n",
       "\n",
       "   Book_Id  \n",
       "0        0  \n",
       "1        1  \n",
       "2        2  \n",
       "3        3  \n",
       "4        4  "
      ]
     },
     "execution_count": 4,
     "metadata": {},
     "output_type": "execute_result"
    }
   ],
   "source": [
    "#Do not run this more than once\n",
    "book_map = user_rating_temp[['Name']]\n",
    "book_map.drop_duplicates(subset=['Name'],keep='first',inplace=True)\n",
    "book_map['Book_Id']=book_map.index.values\n",
    "user_rating_temp = pd.merge(user_rating_temp,book_map, on='Name', how='left')\n",
    "user_rating = user_rating_temp[user_rating_temp['Name']!='Rating'] ##Dropping users who have not rated any books\n",
    "user_rating.head()"
   ]
  },
  {
   "cell_type": "markdown",
   "id": "c4e8a1c3-8ccf-4ad9-ab97-16c0228b0279",
   "metadata": {},
   "source": [
    "## Converting ratings to numerical values using .map()"
   ]
  },
  {
   "cell_type": "code",
   "execution_count": 5,
   "id": "ea460c45-9918-4bb8-a1e4-7d797f7003e7",
   "metadata": {},
   "outputs": [
    {
     "data": {
      "text/plain": [
       "array(['it was amazing', 'really liked it', 'liked it', 'did not like it',\n",
       "       'it was ok'], dtype=object)"
      ]
     },
     "execution_count": 5,
     "metadata": {},
     "output_type": "execute_result"
    }
   ],
   "source": [
    "user_rating['Rating'].unique()"
   ]
  },
  {
   "cell_type": "code",
   "execution_count": 6,
   "id": "e4f8cc3d-1924-42f7-ba78-8c7b691158d6",
   "metadata": {},
   "outputs": [
    {
     "name": "stderr",
     "output_type": "stream",
     "text": [
      "C:\\Users\\Main1\\AppData\\Local\\Temp\\ipykernel_17564\\111996837.py:2: SettingWithCopyWarning: \n",
      "A value is trying to be set on a copy of a slice from a DataFrame.\n",
      "Try using .loc[row_indexer,col_indexer] = value instead\n",
      "\n",
      "See the caveats in the documentation: https://pandas.pydata.org/pandas-docs/stable/user_guide/indexing.html#returning-a-view-versus-a-copy\n",
      "  user_rating['Rating'] = user_rating['Rating'].map(rating_mapping)\n"
     ]
    }
   ],
   "source": [
    "rating_mapping = {'it was amazing': 5, 'really liked it': 4, 'liked it': 3, 'it was ok': 2, 'did not like it': 1}\n",
    "user_rating['Rating'] = user_rating['Rating'].map(rating_mapping)"
   ]
  },
  {
   "cell_type": "code",
   "execution_count": 7,
   "id": "de363501-7db2-4250-8c48-cc8b06814062",
   "metadata": {},
   "outputs": [
    {
     "data": {
      "text/html": [
       "<div>\n",
       "<style scoped>\n",
       "    .dataframe tbody tr th:only-of-type {\n",
       "        vertical-align: middle;\n",
       "    }\n",
       "\n",
       "    .dataframe tbody tr th {\n",
       "        vertical-align: top;\n",
       "    }\n",
       "\n",
       "    .dataframe thead th {\n",
       "        text-align: right;\n",
       "    }\n",
       "</style>\n",
       "<table border=\"1\" class=\"dataframe\">\n",
       "  <thead>\n",
       "    <tr style=\"text-align: right;\">\n",
       "      <th></th>\n",
       "      <th>ID</th>\n",
       "      <th>Name</th>\n",
       "      <th>Rating</th>\n",
       "      <th>Book_Id</th>\n",
       "    </tr>\n",
       "  </thead>\n",
       "  <tbody>\n",
       "    <tr>\n",
       "      <th>0</th>\n",
       "      <td>1</td>\n",
       "      <td>Agile Web Development with Rails: A Pragmatic ...</td>\n",
       "      <td>5</td>\n",
       "      <td>0</td>\n",
       "    </tr>\n",
       "    <tr>\n",
       "      <th>1</th>\n",
       "      <td>1</td>\n",
       "      <td>The Restaurant at the End of the Universe (Hit...</td>\n",
       "      <td>5</td>\n",
       "      <td>1</td>\n",
       "    </tr>\n",
       "    <tr>\n",
       "      <th>2</th>\n",
       "      <td>1</td>\n",
       "      <td>Siddhartha</td>\n",
       "      <td>5</td>\n",
       "      <td>2</td>\n",
       "    </tr>\n",
       "    <tr>\n",
       "      <th>3</th>\n",
       "      <td>1</td>\n",
       "      <td>The Clock of the Long Now: Time and Responsibi...</td>\n",
       "      <td>4</td>\n",
       "      <td>3</td>\n",
       "    </tr>\n",
       "    <tr>\n",
       "      <th>4</th>\n",
       "      <td>1</td>\n",
       "      <td>Ready Player One (Ready Player One, #1)</td>\n",
       "      <td>4</td>\n",
       "      <td>4</td>\n",
       "    </tr>\n",
       "  </tbody>\n",
       "</table>\n",
       "</div>"
      ],
      "text/plain": [
       "   ID                                               Name  Rating  Book_Id\n",
       "0   1  Agile Web Development with Rails: A Pragmatic ...       5        0\n",
       "1   1  The Restaurant at the End of the Universe (Hit...       5        1\n",
       "2   1                                         Siddhartha       5        2\n",
       "3   1  The Clock of the Long Now: Time and Responsibi...       4        3\n",
       "4   1            Ready Player One (Ready Player One, #1)       4        4"
      ]
     },
     "execution_count": 7,
     "metadata": {},
     "output_type": "execute_result"
    }
   ],
   "source": [
    "user_rating.head()"
   ]
  },
  {
   "cell_type": "markdown",
   "id": "404fcb66-9a33-4c2d-8788-b0aac9790634",
   "metadata": {},
   "source": [
    "## Model"
   ]
  },
  {
   "cell_type": "code",
   "execution_count": 5,
   "id": "3d420d87-13b6-4279-971d-3f0f56d72c2a",
   "metadata": {},
   "outputs": [],
   "source": [
    "n_books = user_rating['Book_Id'].unique().sum()"
   ]
  },
  {
   "cell_type": "code",
   "execution_count": 6,
   "id": "e2d75eb5-dc2b-4556-8a6a-3b771ec5a535",
   "metadata": {},
   "outputs": [],
   "source": [
    "n_users = user_rating['ID'].unique().sum()"
   ]
  },
  {
   "cell_type": "code",
   "execution_count": 7,
   "id": "fcf37590-2cbe-4502-a230-1ef3917406ce",
   "metadata": {},
   "outputs": [],
   "source": [
    "import torch\n",
    "import torch.nn as nn\n",
    "\n",
    "class RecommenderNet(nn.Module):\n",
    "    def __init__(self, n_users, n_books, n_factors):\n",
    "        super().__init__()\n",
    "        self.user_emb = nn.Embedding(n_users, n_factors)\n",
    "        self.book_emb = nn.Embedding(n_books, n_factors)\n",
    "        self.drop = nn.Dropout(0.05)\n",
    "        self.fc = nn.Linear(n_factors*2, 1)\n",
    "        \n",
    "    def forward(self, x):\n",
    "        users = self.user_emb(x[:,0])\n",
    "        books = self.book_emb(x[:,1])\n",
    "        x = torch.cat([users, books], dim=1)\n",
    "        x = self.drop(x)\n",
    "        x = self.fc(x)\n",
    "        return x"
   ]
  },
  {
   "cell_type": "code",
   "execution_count": 42,
   "id": "23b71e7b-619d-4685-a207-48e90e3a0587",
   "metadata": {},
   "outputs": [],
   "source": [
    "import torch\n",
    "from torch.utils.data import Dataset, DataLoader\n",
    "from torch.optim import Adam\n",
    "from torch.nn import MSELoss\n",
    "\n",
    "class RatingDataset(Dataset):\n",
    "    def __init__(self, user_rating):\n",
    "        self.user_rating = user_rating\n",
    "\n",
    "    def __len__(self):\n",
    "        return len(self.user_rating)\n",
    "\n",
    "    def __getitem__(self, idx):\n",
    "        user = torch.tensor(self.user_rating.iloc[idx]['ID'])\n",
    "        book = torch.tensor(self.user_rating.iloc[idx]['Book_Id'])\n",
    "        rating = torch.tensor(self.user_rating.iloc[idx]['Rating'])\n",
    "        return user, book, rating\n",
    "        \n",
    "        \n",
    "# previous learning rate was 0.01\n",
    "def train(model, user_rating, epochs=5, lr=0.1, batch_size=32):\n",
    "    # Create a DataLoader from the DataFrame\n",
    "    dataset = RatingDataset(user_rating)\n",
    "    dataloader = DataLoader(dataset, batch_size=batch_size, shuffle=True)\n",
    "\n",
    "    # Use mean squared error loss\n",
    "    criterion = MSELoss()\n",
    "\n",
    "    # Use Adam optimizer\n",
    "    optimizer = Adam(model.parameters(), lr=lr)\n",
    "\n",
    "    for epoch in range(epochs):\n",
    "        for user, book, rating in dataloader:\n",
    "            \n",
    "            # Convert data to tensors\n",
    "            user = torch.tensor(user.values).long()\n",
    "            book = torch.tensor(book.values).long()\n",
    "            rating = torch.tensor(rating.values).float()\n",
    "\n",
    "            # Forward pass\n",
    "            outputs = model(user, book)\n",
    "            loss = criterion(outputs, rating)\n",
    "\n",
    "            # Backward pass and optimization\n",
    "            optimizer.zero_grad()\n",
    "            loss.backward()\n",
    "            optimizer.step()\n",
    "\n",
    "        print(f'Epoch {epoch+1}/{epochs}, Loss: {loss.item()}')\n"
   ]
  },
  {
   "cell_type": "code",
   "execution_count": 17,
   "id": "31037014-3df0-40b9-bddd-e53322904e74",
   "metadata": {},
   "outputs": [],
   "source": [
    "device = torch.device('cuda:0' if torch.cuda.is_available() else 'cpu')\n",
    "# Previous value n_factors=50\n",
    "model = RecommenderNet(n_users, n_books, n_factors=2).to(device)"
   ]
  },
  {
   "cell_type": "code",
   "execution_count": 39,
   "id": "1eef43f1-72a0-4b52-98e0-dd1fc88a06ea",
   "metadata": {},
   "outputs": [
    {
     "data": {
      "text/plain": [
       "<__main__.RatingDataset at 0x2ec31cea1d0>"
      ]
     },
     "execution_count": 39,
     "metadata": {},
     "output_type": "execute_result"
    }
   ],
   "source": [
    "RatingDataset(user_rating)"
   ]
  },
  {
   "cell_type": "code",
   "execution_count": 41,
   "id": "728fd1c7-c42f-491f-b51b-df5d861b2204",
   "metadata": {},
   "outputs": [
    {
     "name": "stderr",
     "output_type": "stream",
     "text": [
      "C:\\Users\\Main1\\AppData\\Local\\Temp\\ipykernel_15768\\3660346299.py:14: FutureWarning: Series.__getitem__ treating keys as positions is deprecated. In a future version, integer keys will always be treated as labels (consistent with DataFrame behavior). To access a value by position, use `ser.iloc[pos]`\n",
      "  return torch.tensor(self.user_rating.iloc[idx])\n"
     ]
    },
    {
     "ename": "TypeError",
     "evalue": "new(): invalid data type 'str'",
     "output_type": "error",
     "traceback": [
      "\u001b[1;31m---------------------------------------------------------------------------\u001b[0m",
      "\u001b[1;31mTypeError\u001b[0m                                 Traceback (most recent call last)",
      "Cell \u001b[1;32mIn[41], line 1\u001b[0m\n\u001b[1;32m----> 1\u001b[0m train(model, user_rating)\n",
      "Cell \u001b[1;32mIn[40], line 30\u001b[0m, in \u001b[0;36mtrain\u001b[1;34m(model, user_rating, epochs, lr, batch_size)\u001b[0m\n\u001b[0;32m     27\u001b[0m optimizer \u001b[38;5;241m=\u001b[39m Adam(model\u001b[38;5;241m.\u001b[39mparameters(), lr\u001b[38;5;241m=\u001b[39mlr)\n\u001b[0;32m     29\u001b[0m \u001b[38;5;28;01mfor\u001b[39;00m epoch \u001b[38;5;129;01min\u001b[39;00m \u001b[38;5;28mrange\u001b[39m(epochs):\n\u001b[1;32m---> 30\u001b[0m     \u001b[38;5;28;01mfor\u001b[39;00m user, book, rating \u001b[38;5;129;01min\u001b[39;00m dataloader:\n\u001b[0;32m     31\u001b[0m         \n\u001b[0;32m     32\u001b[0m         \u001b[38;5;66;03m# Convert data to tensors\u001b[39;00m\n\u001b[0;32m     33\u001b[0m         user \u001b[38;5;241m=\u001b[39m torch\u001b[38;5;241m.\u001b[39mtensor(user\u001b[38;5;241m.\u001b[39mvalues)\u001b[38;5;241m.\u001b[39mlong()\n\u001b[0;32m     34\u001b[0m         book \u001b[38;5;241m=\u001b[39m torch\u001b[38;5;241m.\u001b[39mtensor(book\u001b[38;5;241m.\u001b[39mvalues)\u001b[38;5;241m.\u001b[39mlong()\n",
      "File \u001b[1;32m~\\miniconda3\\envs\\myenv\\Lib\\site-packages\\torch\\utils\\data\\dataloader.py:630\u001b[0m, in \u001b[0;36m_BaseDataLoaderIter.__next__\u001b[1;34m(self)\u001b[0m\n\u001b[0;32m    627\u001b[0m \u001b[38;5;28;01mif\u001b[39;00m \u001b[38;5;28mself\u001b[39m\u001b[38;5;241m.\u001b[39m_sampler_iter \u001b[38;5;129;01mis\u001b[39;00m \u001b[38;5;28;01mNone\u001b[39;00m:\n\u001b[0;32m    628\u001b[0m     \u001b[38;5;66;03m# TODO(https://github.com/pytorch/pytorch/issues/76750)\u001b[39;00m\n\u001b[0;32m    629\u001b[0m     \u001b[38;5;28mself\u001b[39m\u001b[38;5;241m.\u001b[39m_reset()  \u001b[38;5;66;03m# type: ignore[call-arg]\u001b[39;00m\n\u001b[1;32m--> 630\u001b[0m data \u001b[38;5;241m=\u001b[39m \u001b[38;5;28mself\u001b[39m\u001b[38;5;241m.\u001b[39m_next_data()\n\u001b[0;32m    631\u001b[0m \u001b[38;5;28mself\u001b[39m\u001b[38;5;241m.\u001b[39m_num_yielded \u001b[38;5;241m+\u001b[39m\u001b[38;5;241m=\u001b[39m \u001b[38;5;241m1\u001b[39m\n\u001b[0;32m    632\u001b[0m \u001b[38;5;28;01mif\u001b[39;00m \u001b[38;5;28mself\u001b[39m\u001b[38;5;241m.\u001b[39m_dataset_kind \u001b[38;5;241m==\u001b[39m _DatasetKind\u001b[38;5;241m.\u001b[39mIterable \u001b[38;5;129;01mand\u001b[39;00m \\\n\u001b[0;32m    633\u001b[0m         \u001b[38;5;28mself\u001b[39m\u001b[38;5;241m.\u001b[39m_IterableDataset_len_called \u001b[38;5;129;01mis\u001b[39;00m \u001b[38;5;129;01mnot\u001b[39;00m \u001b[38;5;28;01mNone\u001b[39;00m \u001b[38;5;129;01mand\u001b[39;00m \\\n\u001b[0;32m    634\u001b[0m         \u001b[38;5;28mself\u001b[39m\u001b[38;5;241m.\u001b[39m_num_yielded \u001b[38;5;241m>\u001b[39m \u001b[38;5;28mself\u001b[39m\u001b[38;5;241m.\u001b[39m_IterableDataset_len_called:\n",
      "File \u001b[1;32m~\\miniconda3\\envs\\myenv\\Lib\\site-packages\\torch\\utils\\data\\dataloader.py:674\u001b[0m, in \u001b[0;36m_SingleProcessDataLoaderIter._next_data\u001b[1;34m(self)\u001b[0m\n\u001b[0;32m    672\u001b[0m \u001b[38;5;28;01mdef\u001b[39;00m \u001b[38;5;21m_next_data\u001b[39m(\u001b[38;5;28mself\u001b[39m):\n\u001b[0;32m    673\u001b[0m     index \u001b[38;5;241m=\u001b[39m \u001b[38;5;28mself\u001b[39m\u001b[38;5;241m.\u001b[39m_next_index()  \u001b[38;5;66;03m# may raise StopIteration\u001b[39;00m\n\u001b[1;32m--> 674\u001b[0m     data \u001b[38;5;241m=\u001b[39m \u001b[38;5;28mself\u001b[39m\u001b[38;5;241m.\u001b[39m_dataset_fetcher\u001b[38;5;241m.\u001b[39mfetch(index)  \u001b[38;5;66;03m# may raise StopIteration\u001b[39;00m\n\u001b[0;32m    675\u001b[0m     \u001b[38;5;28;01mif\u001b[39;00m \u001b[38;5;28mself\u001b[39m\u001b[38;5;241m.\u001b[39m_pin_memory:\n\u001b[0;32m    676\u001b[0m         data \u001b[38;5;241m=\u001b[39m _utils\u001b[38;5;241m.\u001b[39mpin_memory\u001b[38;5;241m.\u001b[39mpin_memory(data, \u001b[38;5;28mself\u001b[39m\u001b[38;5;241m.\u001b[39m_pin_memory_device)\n",
      "File \u001b[1;32m~\\miniconda3\\envs\\myenv\\Lib\\site-packages\\torch\\utils\\data\\_utils\\fetch.py:51\u001b[0m, in \u001b[0;36m_MapDatasetFetcher.fetch\u001b[1;34m(self, possibly_batched_index)\u001b[0m\n\u001b[0;32m     49\u001b[0m         data \u001b[38;5;241m=\u001b[39m \u001b[38;5;28mself\u001b[39m\u001b[38;5;241m.\u001b[39mdataset\u001b[38;5;241m.\u001b[39m__getitems__(possibly_batched_index)\n\u001b[0;32m     50\u001b[0m     \u001b[38;5;28;01melse\u001b[39;00m:\n\u001b[1;32m---> 51\u001b[0m         data \u001b[38;5;241m=\u001b[39m [\u001b[38;5;28mself\u001b[39m\u001b[38;5;241m.\u001b[39mdataset[idx] \u001b[38;5;28;01mfor\u001b[39;00m idx \u001b[38;5;129;01min\u001b[39;00m possibly_batched_index]\n\u001b[0;32m     52\u001b[0m \u001b[38;5;28;01melse\u001b[39;00m:\n\u001b[0;32m     53\u001b[0m     data \u001b[38;5;241m=\u001b[39m \u001b[38;5;28mself\u001b[39m\u001b[38;5;241m.\u001b[39mdataset[possibly_batched_index]\n",
      "File \u001b[1;32m~\\miniconda3\\envs\\myenv\\Lib\\site-packages\\torch\\utils\\data\\_utils\\fetch.py:51\u001b[0m, in \u001b[0;36m<listcomp>\u001b[1;34m(.0)\u001b[0m\n\u001b[0;32m     49\u001b[0m         data \u001b[38;5;241m=\u001b[39m \u001b[38;5;28mself\u001b[39m\u001b[38;5;241m.\u001b[39mdataset\u001b[38;5;241m.\u001b[39m__getitems__(possibly_batched_index)\n\u001b[0;32m     50\u001b[0m     \u001b[38;5;28;01melse\u001b[39;00m:\n\u001b[1;32m---> 51\u001b[0m         data \u001b[38;5;241m=\u001b[39m [\u001b[38;5;28mself\u001b[39m\u001b[38;5;241m.\u001b[39mdataset[idx] \u001b[38;5;28;01mfor\u001b[39;00m idx \u001b[38;5;129;01min\u001b[39;00m possibly_batched_index]\n\u001b[0;32m     52\u001b[0m \u001b[38;5;28;01melse\u001b[39;00m:\n\u001b[0;32m     53\u001b[0m     data \u001b[38;5;241m=\u001b[39m \u001b[38;5;28mself\u001b[39m\u001b[38;5;241m.\u001b[39mdataset[possibly_batched_index]\n",
      "Cell \u001b[1;32mIn[40], line 14\u001b[0m, in \u001b[0;36mRatingDataset.__getitem__\u001b[1;34m(self, idx)\u001b[0m\n\u001b[0;32m     13\u001b[0m \u001b[38;5;28;01mdef\u001b[39;00m \u001b[38;5;21m__getitem__\u001b[39m(\u001b[38;5;28mself\u001b[39m, idx):\n\u001b[1;32m---> 14\u001b[0m     \u001b[38;5;28;01mreturn\u001b[39;00m torch\u001b[38;5;241m.\u001b[39mtensor(\u001b[38;5;28mself\u001b[39m\u001b[38;5;241m.\u001b[39muser_rating\u001b[38;5;241m.\u001b[39miloc[idx])\n",
      "\u001b[1;31mTypeError\u001b[0m: new(): invalid data type 'str'"
     ]
    }
   ],
   "source": [
    "train(model, user_rating)"
   ]
  },
  {
   "cell_type": "code",
   "execution_count": 50,
   "id": "b8c20032-c969-4d3e-9b78-1d781aa45198",
   "metadata": {},
   "outputs": [
    {
     "data": {
      "text/plain": [
       "False"
      ]
     },
     "execution_count": 50,
     "metadata": {},
     "output_type": "execute_result"
    }
   ],
   "source": [
    "torch.cuda.is_available()"
   ]
  },
  {
   "cell_type": "code",
   "execution_count": null,
   "id": "c453bb46-6287-4516-a7dd-25586dec1ec5",
   "metadata": {},
   "outputs": [],
   "source": []
  }
 ],
 "metadata": {
  "kernelspec": {
   "display_name": "Python 3 (ipykernel)",
   "language": "python",
   "name": "python3"
  },
  "language_info": {
   "codemirror_mode": {
    "name": "ipython",
    "version": 3
   },
   "file_extension": ".py",
   "mimetype": "text/x-python",
   "name": "python",
   "nbconvert_exporter": "python",
   "pygments_lexer": "ipython3",
   "version": "3.11.7"
  }
 },
 "nbformat": 4,
 "nbformat_minor": 5
}
