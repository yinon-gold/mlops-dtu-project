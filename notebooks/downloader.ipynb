{
 "cells": [
  {
   "cell_type": "code",
   "execution_count": 14,
   "id": "initial_id",
   "metadata": {
    "collapsed": true,
    "ExecuteTime": {
     "end_time": "2024-01-10T16:32:46.378153Z",
     "start_time": "2024-01-10T16:32:46.375837Z"
    }
   },
   "outputs": [],
   "source": [
    "import os\n",
    "import requests\n",
    "import pandas as pd"
   ]
  },
  {
   "cell_type": "code",
   "execution_count": 36,
   "outputs": [],
   "source": [
    "dataset = pd.read_csv('../data/raw/book1000k-1100k.csv')\n",
    "x = dataset.loc[3]['Description']"
   ],
   "metadata": {
    "collapsed": false,
    "ExecuteTime": {
     "end_time": "2024-01-10T16:38:20.477882Z",
     "start_time": "2024-01-10T16:38:20.144169Z"
    }
   },
   "id": "924659142a4cabf0"
  },
  {
   "cell_type": "code",
   "execution_count": 9,
   "outputs": [
    {
     "data": {
      "text/plain": "config.json:   0%|          | 0.00/285 [00:00<?, ?B/s]",
      "application/vnd.jupyter.widget-view+json": {
       "version_major": 2,
       "version_minor": 0,
       "model_id": "cbe30801a88e43249fedfab40175c354"
      }
     },
     "metadata": {},
     "output_type": "display_data"
    },
    {
     "data": {
      "text/plain": "pytorch_model.bin:   0%|          | 0.00/17.8M [00:00<?, ?B/s]",
      "application/vnd.jupyter.widget-view+json": {
       "version_major": 2,
       "version_minor": 0,
       "model_id": "7b96265ce2ae4e418721b2a910e387db"
      }
     },
     "metadata": {},
     "output_type": "display_data"
    }
   ],
   "source": [
    "# Load model directly\n",
    "from transformers import AutoModel\n",
    "model = AutoModel.from_pretrained(\"prajjwal1/bert-tiny\")"
   ],
   "metadata": {
    "collapsed": false,
    "ExecuteTime": {
     "end_time": "2024-01-10T16:29:10.719907Z",
     "start_time": "2024-01-10T16:29:05.304349Z"
    }
   },
   "id": "b6b6d49d5f04a56a"
  },
  {
   "cell_type": "code",
   "execution_count": 13,
   "outputs": [
    {
     "data": {
      "text/plain": "vocab.txt:   0%|          | 0.00/232k [00:00<?, ?B/s]",
      "application/vnd.jupyter.widget-view+json": {
       "version_major": 2,
       "version_minor": 0,
       "model_id": "d36192a46fac4040a251ee01c513c65f"
      }
     },
     "metadata": {},
     "output_type": "display_data"
    }
   ],
   "source": [
    "from transformers import AutoTokenizer\n",
    "\n",
    "tokenizer = AutoTokenizer.from_pretrained(\"prajjwal1/bert-tiny\")"
   ],
   "metadata": {
    "collapsed": false,
    "ExecuteTime": {
     "end_time": "2024-01-10T16:31:53.762934Z",
     "start_time": "2024-01-10T16:31:52.165804Z"
    }
   },
   "id": "f9e97de22e495f61"
  },
  {
   "cell_type": "code",
   "execution_count": 50,
   "outputs": [],
   "source": [
    "tokens = tokenizer.tokenize(x)\n",
    "ids = tokenizer.convert_tokens_to_ids(tokens)"
   ],
   "metadata": {
    "collapsed": false,
    "ExecuteTime": {
     "end_time": "2024-01-10T16:42:14.681324Z",
     "start_time": "2024-01-10T16:42:14.678199Z"
    }
   },
   "id": "86aff447bab004e3"
  },
  {
   "cell_type": "code",
   "execution_count": 54,
   "outputs": [
    {
     "data": {
      "text/plain": "BaseModelOutputWithPoolingAndCrossAttentions(last_hidden_state=tensor([[[-0.8700, -1.0126, -2.1281,  ..., -1.4898, -1.2569, -0.5527],\n         [-1.8459, -0.2734,  0.7762,  ..., -2.7112, -1.6500, -0.6932],\n         [-2.3393, -1.3922,  0.3460,  ..., -2.7728, -1.9926,  0.3116],\n         ...,\n         [-0.7478,  0.4434,  0.6335,  ..., -0.4867, -0.9017,  1.2206],\n         [-1.0767,  0.5430,  0.2645,  ..., -1.1213, -1.7638, -0.4878],\n         [-2.2209,  0.6054,  0.7824,  ..., -1.5302, -1.8029,  0.8611]]],\n       grad_fn=<NativeLayerNormBackward0>), pooler_output=tensor([[-0.9963, -0.0258, -0.9718,  0.9752, -0.9714, -0.4032, -0.9814, -0.9037,\n         -0.1285,  0.0145, -0.7071,  0.0570, -0.0584,  0.9563, -0.1155, -0.7603,\n         -0.8013,  0.1740, -0.8868, -0.4257,  0.8288, -0.2311,  0.8358, -0.9306,\n         -0.9984, -0.0542, -0.9858,  0.8304,  0.8235,  0.0681,  0.1428, -0.1274,\n         -0.9767, -0.9867,  0.8471,  0.9998, -0.8424, -0.0206,  0.9876, -0.9729,\n          0.8715,  0.9695, -0.9915,  0.7822, -0.8906, -0.1749, -0.9841,  0.9997,\n         -0.0124,  0.9913,  0.9768, -0.1671,  0.0521,  0.8646,  0.9863,  0.8646,\n         -0.8091,  0.9433,  0.9963, -0.9834, -0.0548,  0.1498, -0.4419,  0.9034,\n          0.1728, -0.9813,  0.1289, -0.5896,  0.5797,  0.9064,  0.9919, -0.0063,\n         -0.9923, -0.0179,  0.4735, -0.9970, -0.8617, -0.0126,  0.0298, -0.1227,\n         -0.7585, -0.0462, -0.9735, -0.9996,  0.9971, -0.6999,  0.9522, -0.9934,\n         -0.9688, -0.1679,  0.2248,  0.9917, -0.8633,  0.8976,  0.9895,  0.9509,\n         -0.0761, -0.3275, -0.8778, -0.9939, -0.8372,  0.9665, -0.9562, -0.9620,\n         -0.9573,  0.1812, -0.9939,  0.3676, -0.0558,  0.9237,  0.3102, -0.1176,\n          0.1819,  0.8183, -0.9288,  0.0689,  0.7228,  0.5947, -0.0804, -0.9924,\n          0.0629, -0.9995, -0.9095,  0.9010, -0.9784,  0.7498,  0.9983,  0.9806]],\n       grad_fn=<TanhBackward0>), hidden_states=None, past_key_values=None, attentions=None, cross_attentions=None)"
     },
     "execution_count": 54,
     "metadata": {},
     "output_type": "execute_result"
    }
   ],
   "source": [
    "model_inputs = tokenizer(x, return_tensors=\"pt\")\n",
    "y = model(**model_inputs)\n",
    "y"
   ],
   "metadata": {
    "collapsed": false,
    "ExecuteTime": {
     "end_time": "2024-01-10T16:51:33.385863Z",
     "start_time": "2024-01-10T16:51:33.372676Z"
    }
   },
   "id": "8eb57fc63e70ceab"
  },
  {
   "cell_type": "code",
   "execution_count": null,
   "outputs": [],
   "source": [],
   "metadata": {
    "collapsed": false
   },
   "id": "37616cd7a684f09d"
  }
 ],
 "metadata": {
  "kernelspec": {
   "display_name": "Python 3",
   "language": "python",
   "name": "python3"
  },
  "language_info": {
   "codemirror_mode": {
    "name": "ipython",
    "version": 2
   },
   "file_extension": ".py",
   "mimetype": "text/x-python",
   "name": "python",
   "nbconvert_exporter": "python",
   "pygments_lexer": "ipython2",
   "version": "2.7.6"
  }
 },
 "nbformat": 4,
 "nbformat_minor": 5
}
